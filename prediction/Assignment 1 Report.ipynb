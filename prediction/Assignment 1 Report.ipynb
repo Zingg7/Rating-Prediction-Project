{
 "cells": [
  {
   "cell_type": "markdown",
   "metadata": {},
   "source": [
    "Student ID: A53308934 <br>\n",
    "\n",
    "Student Name: Deng Zhang <br>\n",
    "\n",
    "Kaggle User Name: amazingme"
   ]
  },
  {
   "cell_type": "markdown",
   "metadata": {},
   "source": [
    "# Task One - Read Prediction"
   ]
  },
  {
   "cell_type": "markdown",
   "metadata": {},
   "source": [
    "In this task, we are asked to predict given a (user,book) pair from ‘pairs Read.txt’ whether the user would read the book (0 or 1)."
   ]
  },
  {
   "cell_type": "markdown",
   "metadata": {},
   "source": [
    "## Store the data\n",
    "\n",
    "    We need to read the file, and store it in list.\n",
    "\n",
    "\n",
    "- For the training set:\n",
    "\n",
    "I create a user-book dictionary, with the key represents one user, and the value set represents all the books he/she reads. Likewise, I create a book-User dictionary.\n",
    "\n",
    "I also create userRating & bookRating list, which store the average score of each user/book.\n",
    "\n",
    "\n",
    "- For the validation set:\n",
    "\n",
    "Since the given data only consists of positive sample, we should sample a negative entry by randomly choosing a book that user hasn't read."
   ]
  },
  {
   "cell_type": "markdown",
   "metadata": {},
   "source": [
    "## Populairity Predict\n",
    "\n",
    "    Create an identifier to predict whether a book would be read by a user or not \n",
    "    based on book's popularity.\n",
    "\n",
    "\n",
    "just rank which books are popular and which are not, and return '1' if a book is among the top-ranked"
   ]
  },
  {
   "cell_type": "markdown",
   "metadata": {},
   "source": [
    "## Jaccard Similarity\n",
    "\n",
    "    Create an identifier to predict whether a book would be read by a user or not\n",
    "    based on Jaccrad Similarity.\n",
    "\n",
    "\n",
    "get the max Jaccard similairy value of all the books that this user has read, return '1' if this value exceeds a threshold"
   ]
  },
  {
   "cell_type": "markdown",
   "metadata": {},
   "source": [
    "## Combine two identifiers\n",
    "\n",
    "    Determine the best thersholds for each identifier, and combine it\n",
    "\n",
    "- Threshold:\n",
    "\n",
    "Using loops to find out the thresholds for these two identifiers.\n",
    "\n",
    "\n",
    "- Combination:\n",
    "\n",
    "Get the prediction result of the two identifiers. If the result of these two identifiers are the same, make it the final prediction. If the result are not the same, predict it by Jaccard Similiarity using another thershold."
   ]
  },
  {
   "cell_type": "markdown",
   "metadata": {},
   "source": [
    "## Result\n",
    "\n",
    "Accuracy: 0.67983"
   ]
  },
  {
   "cell_type": "markdown",
   "metadata": {},
   "source": [
    "# Task Two - Rating Prediction"
   ]
  },
  {
   "cell_type": "markdown",
   "metadata": {},
   "source": [
    "Predict people’s star ratings as accurately as possible, for those (user,item) pairs in ‘pairs Rating.txt’. Accuracy will be measured in terms of the mean-squared error (MSE)."
   ]
  },
  {
   "cell_type": "markdown",
   "metadata": {},
   "source": [
    "## Initialization\n",
    "\n",
    "    Create the initial value of alpha, beta_u, beta_b\n",
    "\n",
    "- Alpha:\n",
    "\n",
    "My alpha is the average rating of dataset\n",
    "\n",
    "- BetaUsers:\n",
    "\n",
    "BetaUsers is a dictionary. The key is userID, value is the average rating of this user - alpha\n",
    "\n",
    "- BetaBooks:\n",
    "\n",
    "BetaBooks is a dictionary. The key is bookID, value is the average rating of this book - alpha"
   ]
  },
  {
   "cell_type": "markdown",
   "metadata": {},
   "source": [
    "## Iteration\n",
    "\n",
    "    Update the value of alpha, betaUsers, betaBooks by iteration until no specific \n",
    "    change happen.\n",
    "\n",
    "Above steps based on the formula of the slides. \n",
    "\n",
    "(I don't know how to type mathematical formula here :-( You can see it in the slides of Lecture 8!)"
   ]
  },
  {
   "cell_type": "markdown",
   "metadata": {},
   "source": [
    "## Optimization\n",
    "\n",
    "    Find a best lambda that has the lowest MSE"
   ]
  },
  {
   "cell_type": "markdown",
   "metadata": {},
   "source": [
    "## Result\n",
    "\n",
    "MSE on Kaggle: 1.13702"
   ]
  }
 ],
 "metadata": {
  "kernelspec": {
   "display_name": "Python 3",
   "language": "python",
   "name": "python3"
  },
  "language_info": {
   "codemirror_mode": {
    "name": "ipython",
    "version": 3
   },
   "file_extension": ".py",
   "mimetype": "text/x-python",
   "name": "python",
   "nbconvert_exporter": "python",
   "pygments_lexer": "ipython3",
   "version": "3.7.3"
  }
 },
 "nbformat": 4,
 "nbformat_minor": 1
}
